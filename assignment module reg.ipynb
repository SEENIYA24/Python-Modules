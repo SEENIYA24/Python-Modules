{
 "cells": [
  {
   "cell_type": "code",
   "execution_count": null,
   "id": "90017514-826d-4f5c-b4f2-888dc4869b6a",
   "metadata": {},
   "outputs": [],
   "source": [
    "#1.Write a Python program to calculate the square root of a number using the math module."
   ]
  },
  {
   "cell_type": "code",
   "execution_count": 3,
   "id": "42fda7e7-ea9d-42ad-8cbc-c7130dec8b01",
   "metadata": {},
   "outputs": [
    {
     "name": "stdin",
     "output_type": "stream",
     "text": [
      "Enter a number to calculate its square root:  25\n"
     ]
    },
    {
     "name": "stdout",
     "output_type": "stream",
     "text": [
      "The square root of 25.0 is 5.0\n"
     ]
    }
   ],
   "source": [
    "import math\n",
    "number = float(input(\"Enter a number to calculate its square root: \"))\n",
    "square_root = math.sqrt(number)\n",
    "print(f\"The square root of {number} is {square_root}\")"
   ]
  },
  {
   "cell_type": "code",
   "execution_count": null,
   "id": "c2ec7227-112c-42bb-99a8-fa8ab53e8fb8",
   "metadata": {},
   "outputs": [],
   "source": [
    "#2.Write a Python program to generate a random number between 1 and 10 using the random module."
   ]
  },
  {
   "cell_type": "code",
   "execution_count": 5,
   "id": "324f7346-88e6-4be3-9ff0-c1fb4d115b55",
   "metadata": {},
   "outputs": [
    {
     "name": "stdout",
     "output_type": "stream",
     "text": [
      "Random number between 1 and 10: 4\n"
     ]
    }
   ],
   "source": [
    "import random\n",
    "\n",
    "random_number = random.randint(1, 10)\n",
    "print(f\"Random number between 1 and 10: {random_number}\")\n"
   ]
  },
  {
   "cell_type": "code",
   "execution_count": null,
   "id": "48c62c7b-88a5-4f3b-a267-b72379896402",
   "metadata": {},
   "outputs": [],
   "source": [
    "#3.Write a Python program to calculate the factorial of a number using the math module."
   ]
  },
  {
   "cell_type": "code",
   "execution_count": 7,
   "id": "f9825b21-318d-4337-9de0-d4e84c14f0f2",
   "metadata": {},
   "outputs": [
    {
     "name": "stdin",
     "output_type": "stream",
     "text": [
      "Enter a number to calculate its factorial:  10\n"
     ]
    },
    {
     "name": "stdout",
     "output_type": "stream",
     "text": [
      "The factorial of 10 is 3628800\n"
     ]
    }
   ],
   "source": [
    "import math\n",
    "\n",
    "number = int(input(\"Enter a number to calculate its factorial: \"))\n",
    "factorial = math.factorial(number)\n",
    "print(f\"The factorial of {number} is {factorial}\")\n"
   ]
  },
  {
   "cell_type": "code",
   "execution_count": null,
   "id": "629cde32-73d3-476c-99f6-56d61f7d0b8c",
   "metadata": {},
   "outputs": [],
   "source": [
    "#4.Create a Python module named math_operations that contains functions to calculate \n",
    "# the area of a circle, the area of a rectangle and the area of a triangle. \n",
    "# Write a program to use this module to perform area calculations.\n"
   ]
  },
  {
   "cell_type": "code",
   "execution_count": null,
   "id": "b17e82f1-f0a2-4eb0-bbb7-4ff999f8acaa",
   "metadata": {},
   "outputs": [
    {
     "name": "stdout",
     "output_type": "stream",
     "text": [
      "Welcome to the Area Calculator!\n",
      "\n",
      "Choose a shape to calculate its area:\n",
      "1. Circle\n",
      "2. Rectangle\n",
      "3. Triangle\n",
      "4. Quit\n"
     ]
    }
   ],
   "source": [
    "import math\n",
    "\n",
    "def main():\n",
    "    print(\"Welcome to the Area Calculator!\")\n",
    "    while True:\n",
    "        print(\"\\nChoose a shape to calculate its area:\")\n",
    "        print(\"1. Circle\")\n",
    "        print(\"2. Rectangle\")\n",
    "        print(\"3. Triangle\")\n",
    "        print(\"4. Quit\")\n",
    "        \n",
    "        choice = input(\"Enter your choice (1-4): \")\n",
    "        \n",
    "        if choice == '1':\n",
    "            radius = float(input(\"Enter the radius of the circle: \"))\n",
    "            area = math_operations.circle_area(radius)\n",
    "            print(f\"The area of the circle is {area:.2f} square units.\")\n",
    "        elif choice == '2':\n",
    "            length = float(input(\"Enter the length of the rectangle: \"))\n",
    "            width = float(input(\"Enter the width of the rectangle: \"))\n",
    "            area = math_operations.rectangle_area(length, width)\n",
    "            print(f\"The area of the rectangle is {area:.2f} square units.\")\n",
    "        elif choice == '3':\n",
    "            base = float(input(\"Enter the base of the triangle: \"))\n",
    "            height = float(input(\"Enter the height of the triangle: \"))\n",
    "            area = math_operations.triangle_area(base, height)\n",
    "            print(f\"The area of the triangle is {area:.2f} square units.\")\n",
    "        elif choice == '4':\n",
    "            print(\"Thank you for using the Area Calculator. Goodbye!\")\n",
    "            break\n",
    "        else:\n",
    "            print(\"Invalid choice. Please try again.\")\n",
    "\n",
    "if __name__ == \"__main__\":\n",
    "    main()"
   ]
  },
  {
   "cell_type": "code",
   "execution_count": null,
   "id": "9dfc9e25-bfd5-4fc4-b474-40970df44395",
   "metadata": {},
   "outputs": [],
   "source": [
    "#5. Exercise 5: (score: 2)\n",
    "# Create a Python module named temperature_conversion that contains functions to convert \n",
    "# Celsius to Fahrenheit and Fahrenheit to Celsius. Write a program to use this module \n",
    "# to perform temperature conversions."
   ]
  },
  {
   "cell_type": "code",
   "execution_count": 15,
   "id": "d89b0488-cbaa-4e86-8753-1f00dd3e8a8d",
   "metadata": {},
   "outputs": [
    {
     "name": "stdin",
     "output_type": "stream",
     "text": [
      "Enter a number:  5\n"
     ]
    },
    {
     "name": "stdout",
     "output_type": "stream",
     "text": [
      "Successfully converted '5' to integer: 5\n"
     ]
    },
    {
     "data": {
      "text/plain": [
       "5"
      ]
     },
     "execution_count": 15,
     "metadata": {},
     "output_type": "execute_result"
    }
   ],
   "source": []
  },
  {
   "cell_type": "code",
   "execution_count": null,
   "id": "4e5fdef2-472d-4ad5-bcb0-23ee09ce203f",
   "metadata": {},
   "outputs": [],
   "source": []
  }
 ],
 "metadata": {
  "kernelspec": {
   "display_name": "Python 3 (ipykernel)",
   "language": "python",
   "name": "python3"
  },
  "language_info": {
   "codemirror_mode": {
    "name": "ipython",
    "version": 3
   },
   "file_extension": ".py",
   "mimetype": "text/x-python",
   "name": "python",
   "nbconvert_exporter": "python",
   "pygments_lexer": "ipython3",
   "version": "3.12.4"
  }
 },
 "nbformat": 4,
 "nbformat_minor": 5
}
